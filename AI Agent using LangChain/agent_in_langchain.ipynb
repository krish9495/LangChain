{
 "cells": [
  {
   "cell_type": "code",
   "execution_count": null,
   "id": "a8d4abd2",
   "metadata": {},
   "outputs": [],
   "source": [
    "import os\n",
    "os.environ['OPENAI_API_KEY']='sk-or-v1'\n",
    "os.environ['OPENAI_BASE_URL']='https://openrouter.ai/api/v1'"
   ]
  },
  {
   "cell_type": "code",
   "execution_count": 2,
   "id": "fe43e999",
   "metadata": {},
   "outputs": [],
   "source": [
    " from langchain_openai import ChatOpenAI\n",
    " from langchain_core.tools import tool\n",
    " import requests"
   ]
  },
  {
   "cell_type": "code",
   "execution_count": 3,
   "id": "7b8e5610",
   "metadata": {},
   "outputs": [],
   "source": [
    "from langchain_community.tools import DuckDuckGoSearchRun\n",
    "search_tool=DuckDuckGoSearchRun()\n",
    "\n",
    "result=search_tool.invoke('Top news in india now')"
   ]
  },
  {
   "cell_type": "code",
   "execution_count": 4,
   "id": "36687c8b",
   "metadata": {},
   "outputs": [
    {
     "data": {
      "text/plain": [
       "\"India News | Latest India News | Read latest and breaking news from India. Today's top India news headlines, news on Indian politics, elections, government, business, technology, and Bollywood. Latest News: Stay updated with the latest news from Mumbai, Delhi, Kolkata, Bengaluru, Hyderabad, Chennai, and across India and the world. Catch breaking news in India Today, top headlines, and live updates from Sports, Cricket, Business, Bollywood, Hollywood, and International news today. Headlines today: Get news headlines from India and around the world. Today's breaking news on politics, sports, entertainment, business, life style and many more on Times of India Top India News. India, Pakistan extend mutual airspace bans till July 24 amid rising tensions. Jun 23, 2025 11:01 PM IST. India hits back at OIC, says 'ironic' for Pakistan to talk of counter-terrorism, human rights. Jun 23, 2025 9:47 PM IST. ... Trending Now. Nifty 50 companies: Stay informed with breaking news and latest news on politics, business, entertainment sports, science, technology along with news updates from around the world.\""
      ]
     },
     "execution_count": 4,
     "metadata": {},
     "output_type": "execute_result"
    }
   ],
   "source": [
    "result"
   ]
  },
  {
   "cell_type": "code",
   "execution_count": null,
   "id": "eceb2a51",
   "metadata": {},
   "outputs": [],
   "source": [
    "@tool\n",
    "def get_weather_data(city:str)->str:\n",
    "    \"\"\"\n",
    "    This function fetches the current weather data for a given city\n",
    "    \"\"\"\n",
    "    url=f'http://api.weatherstack.com/current?access_key=9e83a90b65940f8df4e&query={city}'\n",
    "\n",
    "    responses=requests.get(url)\n",
    "    return responses.json()"
   ]
  },
  {
   "cell_type": "code",
   "execution_count": 14,
   "id": "db4c617d",
   "metadata": {},
   "outputs": [],
   "source": [
    "llm=ChatOpenAI()"
   ]
  },
  {
   "cell_type": "code",
   "execution_count": 15,
   "id": "3781fb08",
   "metadata": {},
   "outputs": [
    {
     "data": {
      "text/plain": [
       "AIMessage(content='Hello! How can I assist you today?', additional_kwargs={'refusal': None}, response_metadata={'token_usage': {'completion_tokens': 9, 'prompt_tokens': 8, 'total_tokens': 17, 'completion_tokens_details': {'accepted_prediction_tokens': None, 'audio_tokens': None, 'reasoning_tokens': 0, 'rejected_prediction_tokens': None}, 'prompt_tokens_details': {'audio_tokens': None, 'cached_tokens': 0}}, 'model_name': 'openai/gpt-3.5-turbo', 'system_fingerprint': None, 'id': 'gen-1750778183-6EtizpMQmjKFXvevj2wA', 'service_tier': None, 'finish_reason': 'stop', 'logprobs': None}, id='run--8e39e440-aeee-45e3-a9d3-a5912bc62e34-0', usage_metadata={'input_tokens': 8, 'output_tokens': 9, 'total_tokens': 17, 'input_token_details': {'cache_read': 0}, 'output_token_details': {'reasoning': 0}})"
      ]
     },
     "execution_count": 15,
     "metadata": {},
     "output_type": "execute_result"
    }
   ],
   "source": [
    "llm.invoke('hi')"
   ]
  },
  {
   "cell_type": "code",
   "execution_count": 16,
   "id": "d8e65979",
   "metadata": {},
   "outputs": [],
   "source": [
    "from langchain.agents import create_react_agent,AgentExecutor\n",
    "from langchain import hub"
   ]
  },
  {
   "cell_type": "code",
   "execution_count": 17,
   "id": "16dbbabd",
   "metadata": {},
   "outputs": [
    {
     "name": "stderr",
     "output_type": "stream",
     "text": [
      "d:\\LangChain\\LangChain Models\\venv\\Lib\\site-packages\\langsmith\\client.py:272: LangSmithMissingAPIKeyWarning: API key must be provided when using hosted LangSmith API\n",
      "  warnings.warn(\n"
     ]
    }
   ],
   "source": [
    "#step 2 PUll the react prompt from the hub\n",
    "\n",
    "prompt=hub.pull(\"hwchase17/react\") #pulls the standard react agent prompt"
   ]
  },
  {
   "cell_type": "code",
   "execution_count": 18,
   "id": "919452a6",
   "metadata": {},
   "outputs": [],
   "source": [
    "#step 3  create the react agent manually with the prompt\n",
    "\n",
    "agent=create_react_agent(\n",
    "    llm=llm,\n",
    "    tools=[search_tool,get_weather_data],\n",
    "    prompt=prompt\n",
    ")"
   ]
  },
  {
   "cell_type": "code",
   "execution_count": 19,
   "id": "0f350954",
   "metadata": {},
   "outputs": [],
   "source": [
    "# step 4 wrap it with Agent Executor\n",
    "agent_executor=AgentExecutor(\n",
    "    agent=agent,\n",
    "    tools=[search_tool,get_weather_data],\n",
    "    verbose=True\n",
    ")"
   ]
  },
  {
   "cell_type": "code",
   "execution_count": 20,
   "id": "d28de696",
   "metadata": {},
   "outputs": [
    {
     "name": "stdout",
     "output_type": "stream",
     "text": [
      "\n",
      "\n",
      "\u001b[1m> Entering new AgentExecutor chain...\u001b[0m\n",
      "\u001b[32;1m\u001b[1;3mI will first search for the capital of India and then use the get_weather_data function to check the current weather condition.\n",
      "Action: duckduckgo_search\n",
      "Action Input: \"capital of India\"\u001b[0m\u001b[36;1m\u001b[1;3mDelhi is a city and national capital territory in north-central India. The city of Delhi actually consists of two components: Old Delhi, in the north, the historic city; and New Delhi, in the south, since 1947 the capital of India, built in the first part of the 20th century as the capital of British India. States and Capitals of India. In India, there are a total of 28 States and 8 Union Territories. Each state in India is unique and has a very rich and diverse culture, language, resources, flora and fauna, democracy festivals, etc. Each state contributes to the development and growth of the economy of the country in numerous ways. States and Capitals of India: India is one of the oldest civilizations in the world, known for its diverse culture and rich history. Since gaining independence, India has made significant progress in many areas. As the seventh-largest country globally, it is unique in Asia, surrounded by mountains and oceans that give it a special geographical identity. States and Capitals. States and Capitals of India: India is the seventh-largest country in the world in terms of area and the second-most populous country in the world in terms of population. It is located in South Asia. India is officially known as the Republic of India. The capital of India is New Delhi. The states and capitals of India are one of the predominant topics in any government exams conducted by the Indian government.Numerous individuals might not possess complete knowledge regarding all the Indian States and their respective Capitals. To enhance general awareness throughout the nation, a comprehensive article detailing the States and Capitals of India has been provided for your ...\u001b[0m\u001b[32;1m\u001b[1;3mI now have the capital of India, which is New Delhi. Now I will use the get_weather_data function to check the current weather condition in New Delhi.\n",
      "Action: get_weather_data\n",
      "Action Input: \"New Delhi\"\u001b[0m\u001b[33;1m\u001b[1;3m{'request': {'type': 'City', 'query': 'New Delhi, India', 'language': 'en', 'unit': 'm'}, 'location': {'name': 'New Delhi', 'country': 'India', 'region': 'Delhi', 'lat': '28.600', 'lon': '77.200', 'timezone_id': 'Asia/Kolkata', 'localtime': '2025-06-24 20:47', 'localtime_epoch': 1750798020, 'utc_offset': '5.50'}, 'current': {'observation_time': '03:17 PM', 'temperature': 37, 'weather_code': 200, 'weather_icons': ['https://cdn.worldweatheronline.com/images/wsymbols01_png_64/wsymbol_0032_thundery_showers_night.png'], 'weather_descriptions': ['Thundery outbreaks in nearby'], 'astro': {'sunrise': '05:25 AM', 'sunset': '07:23 PM', 'moonrise': '03:47 AM', 'moonset': '06:36 PM', 'moon_phase': 'Waning Crescent', 'moon_illumination': 3}, 'air_quality': {'co': '900.95', 'no2': '13.32', 'o3': '247', 'so2': '51.06', 'pm2_5': '96.94', 'pm10': '177.415', 'us-epa-index': '4', 'gb-defra-index': '4'}, 'wind_speed': 7, 'wind_degree': 163, 'wind_dir': 'SSE', 'pressure': 995, 'precip': 0, 'humidity': 41, 'cloudcover': 45, 'feelslike': 42, 'uv_index': 0, 'visibility': 9, 'is_day': 'no'}}\u001b[0m\u001b[32;1m\u001b[1;3mI now know that the current weather condition in New Delhi is thundery outbreaks in nearby with a temperature of 37°C. \n",
      "Final Answer: The capital of India is New Delhi and the current weather condition there is thundery outbreaks in nearby with a temperature of 37°C.\u001b[0m\n",
      "\n",
      "\u001b[1m> Finished chain.\u001b[0m\n",
      "{'input': 'Find the capital of India and then check the current weather condition', 'output': 'The capital of India is New Delhi and the current weather condition there is thundery outbreaks in nearby with a temperature of 37°C.'}\n"
     ]
    }
   ],
   "source": [
    "#step 5 invoke \n",
    "response=agent_executor.invoke({'input':'Find the capital of India and then check the current weather condition'})\n",
    "print(response)"
   ]
  },
  {
   "cell_type": "code",
   "execution_count": 12,
   "id": "47222ad1",
   "metadata": {},
   "outputs": [
    {
     "data": {
      "text/plain": [
       "'The best ways to reach Araku from Vijayawada are by bus, train, or flight.'"
      ]
     },
     "execution_count": 12,
     "metadata": {},
     "output_type": "execute_result"
    }
   ],
   "source": [
    "response['output']"
   ]
  },
  {
   "cell_type": "code",
   "execution_count": null,
   "id": "26386db3",
   "metadata": {},
   "outputs": [],
   "source": [
    " "
   ]
  }
 ],
 "metadata": {
  "kernelspec": {
   "display_name": "venv",
   "language": "python",
   "name": "python3"
  },
  "language_info": {
   "codemirror_mode": {
    "name": "ipython",
    "version": 3
   },
   "file_extension": ".py",
   "mimetype": "text/x-python",
   "name": "python",
   "nbconvert_exporter": "python",
   "pygments_lexer": "ipython3",
   "version": "3.12.5"
  }
 },
 "nbformat": 4,
 "nbformat_minor": 5
}

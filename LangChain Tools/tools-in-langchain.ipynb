{
 "cells": [
  {
   "cell_type": "code",
   "execution_count": 1,
   "id": "a8217a14",
   "metadata": {},
   "outputs": [
    {
     "name": "stdout",
     "output_type": "stream",
     "text": [
      "Requirement already satisfied: langchain in d:\\langchain\\langchain models\\venv\\lib\\site-packages (0.3.25)\n",
      "Requirement already satisfied: langchain-core in d:\\langchain\\langchain models\\venv\\lib\\site-packages (0.3.65)\n",
      "Requirement already satisfied: langchain-community in d:\\langchain\\langchain models\\venv\\lib\\site-packages (0.3.25)\n",
      "Requirement already satisfied: pydantic in d:\\langchain\\langchain models\\venv\\lib\\site-packages (2.11.7)\n",
      "Collecting duckduckgo-search\n",
      "  Downloading duckduckgo_search-8.0.4-py3-none-any.whl.metadata (16 kB)\n",
      "Collecting langchain_experimental\n",
      "  Downloading langchain_experimental-0.3.4-py3-none-any.whl.metadata (1.7 kB)\n",
      "Requirement already satisfied: langchain-text-splitters<1.0.0,>=0.3.8 in d:\\langchain\\langchain models\\venv\\lib\\site-packages (from langchain) (0.3.8)\n",
      "Requirement already satisfied: langsmith<0.4,>=0.1.17 in d:\\langchain\\langchain models\\venv\\lib\\site-packages (from langchain) (0.3.45)\n",
      "Requirement already satisfied: SQLAlchemy<3,>=1.4 in d:\\langchain\\langchain models\\venv\\lib\\site-packages (from langchain) (2.0.41)\n",
      "Requirement already satisfied: requests<3,>=2 in d:\\langchain\\langchain models\\venv\\lib\\site-packages (from langchain) (2.32.4)\n",
      "Requirement already satisfied: PyYAML>=5.3 in d:\\langchain\\langchain models\\venv\\lib\\site-packages (from langchain) (6.0.2)\n",
      "Requirement already satisfied: tenacity!=8.4.0,<10.0.0,>=8.1.0 in d:\\langchain\\langchain models\\venv\\lib\\site-packages (from langchain-core) (9.1.2)\n",
      "Requirement already satisfied: jsonpatch<2.0,>=1.33 in d:\\langchain\\langchain models\\venv\\lib\\site-packages (from langchain-core) (1.33)\n",
      "Requirement already satisfied: packaging<25,>=23.2 in d:\\langchain\\langchain models\\venv\\lib\\site-packages (from langchain-core) (24.2)\n",
      "Requirement already satisfied: typing-extensions>=4.7 in d:\\langchain\\langchain models\\venv\\lib\\site-packages (from langchain-core) (4.14.0)\n",
      "Requirement already satisfied: aiohttp<4.0.0,>=3.8.3 in d:\\langchain\\langchain models\\venv\\lib\\site-packages (from langchain-community) (3.12.13)\n",
      "Requirement already satisfied: dataclasses-json<0.7,>=0.5.7 in d:\\langchain\\langchain models\\venv\\lib\\site-packages (from langchain-community) (0.6.7)\n",
      "Requirement already satisfied: pydantic-settings<3.0.0,>=2.4.0 in d:\\langchain\\langchain models\\venv\\lib\\site-packages (from langchain-community) (2.9.1)\n",
      "Requirement already satisfied: httpx-sse<1.0.0,>=0.4.0 in d:\\langchain\\langchain models\\venv\\lib\\site-packages (from langchain-community) (0.4.0)\n",
      "Requirement already satisfied: numpy>=1.26.2 in d:\\langchain\\langchain models\\venv\\lib\\site-packages (from langchain-community) (2.3.0)\n",
      "Requirement already satisfied: annotated-types>=0.6.0 in d:\\langchain\\langchain models\\venv\\lib\\site-packages (from pydantic) (0.7.0)\n",
      "Requirement already satisfied: pydantic-core==2.33.2 in d:\\langchain\\langchain models\\venv\\lib\\site-packages (from pydantic) (2.33.2)\n",
      "Requirement already satisfied: typing-inspection>=0.4.0 in d:\\langchain\\langchain models\\venv\\lib\\site-packages (from pydantic) (0.4.1)\n",
      "Requirement already satisfied: click>=8.1.8 in d:\\langchain\\langchain models\\venv\\lib\\site-packages (from duckduckgo-search) (8.2.1)\n",
      "Collecting primp>=0.15.0 (from duckduckgo-search)\n",
      "  Downloading primp-0.15.0-cp38-abi3-win_amd64.whl.metadata (13 kB)\n",
      "Requirement already satisfied: lxml>=5.3.0 in d:\\langchain\\langchain models\\venv\\lib\\site-packages (from duckduckgo-search) (5.4.0)\n",
      "Requirement already satisfied: aiohappyeyeballs>=2.5.0 in d:\\langchain\\langchain models\\venv\\lib\\site-packages (from aiohttp<4.0.0,>=3.8.3->langchain-community) (2.6.1)\n",
      "Requirement already satisfied: aiosignal>=1.1.2 in d:\\langchain\\langchain models\\venv\\lib\\site-packages (from aiohttp<4.0.0,>=3.8.3->langchain-community) (1.3.2)\n",
      "Requirement already satisfied: attrs>=17.3.0 in d:\\langchain\\langchain models\\venv\\lib\\site-packages (from aiohttp<4.0.0,>=3.8.3->langchain-community) (25.3.0)\n",
      "Requirement already satisfied: frozenlist>=1.1.1 in d:\\langchain\\langchain models\\venv\\lib\\site-packages (from aiohttp<4.0.0,>=3.8.3->langchain-community) (1.7.0)\n",
      "Requirement already satisfied: multidict<7.0,>=4.5 in d:\\langchain\\langchain models\\venv\\lib\\site-packages (from aiohttp<4.0.0,>=3.8.3->langchain-community) (6.5.0)\n",
      "Requirement already satisfied: propcache>=0.2.0 in d:\\langchain\\langchain models\\venv\\lib\\site-packages (from aiohttp<4.0.0,>=3.8.3->langchain-community) (0.3.2)\n",
      "Requirement already satisfied: yarl<2.0,>=1.17.0 in d:\\langchain\\langchain models\\venv\\lib\\site-packages (from aiohttp<4.0.0,>=3.8.3->langchain-community) (1.20.1)\n",
      "Requirement already satisfied: colorama in d:\\langchain\\langchain models\\venv\\lib\\site-packages (from click>=8.1.8->duckduckgo-search) (0.4.6)\n",
      "Requirement already satisfied: marshmallow<4.0.0,>=3.18.0 in d:\\langchain\\langchain models\\venv\\lib\\site-packages (from dataclasses-json<0.7,>=0.5.7->langchain-community) (3.26.1)\n",
      "Requirement already satisfied: typing-inspect<1,>=0.4.0 in d:\\langchain\\langchain models\\venv\\lib\\site-packages (from dataclasses-json<0.7,>=0.5.7->langchain-community) (0.9.0)\n",
      "Requirement already satisfied: jsonpointer>=1.9 in d:\\langchain\\langchain models\\venv\\lib\\site-packages (from jsonpatch<2.0,>=1.33->langchain-core) (3.0.0)\n",
      "Requirement already satisfied: httpx<1,>=0.23.0 in d:\\langchain\\langchain models\\venv\\lib\\site-packages (from langsmith<0.4,>=0.1.17->langchain) (0.28.1)\n",
      "Requirement already satisfied: orjson<4.0.0,>=3.9.14 in d:\\langchain\\langchain models\\venv\\lib\\site-packages (from langsmith<0.4,>=0.1.17->langchain) (3.10.18)\n",
      "Requirement already satisfied: requests-toolbelt<2.0.0,>=1.0.0 in d:\\langchain\\langchain models\\venv\\lib\\site-packages (from langsmith<0.4,>=0.1.17->langchain) (1.0.0)\n",
      "Requirement already satisfied: zstandard<0.24.0,>=0.23.0 in d:\\langchain\\langchain models\\venv\\lib\\site-packages (from langsmith<0.4,>=0.1.17->langchain) (0.23.0)\n",
      "Requirement already satisfied: python-dotenv>=0.21.0 in d:\\langchain\\langchain models\\venv\\lib\\site-packages (from pydantic-settings<3.0.0,>=2.4.0->langchain-community) (1.1.0)\n",
      "Requirement already satisfied: charset_normalizer<4,>=2 in d:\\langchain\\langchain models\\venv\\lib\\site-packages (from requests<3,>=2->langchain) (3.4.2)\n",
      "Requirement already satisfied: idna<4,>=2.5 in d:\\langchain\\langchain models\\venv\\lib\\site-packages (from requests<3,>=2->langchain) (3.10)\n",
      "Requirement already satisfied: urllib3<3,>=1.21.1 in d:\\langchain\\langchain models\\venv\\lib\\site-packages (from requests<3,>=2->langchain) (2.4.0)\n",
      "Requirement already satisfied: certifi>=2017.4.17 in d:\\langchain\\langchain models\\venv\\lib\\site-packages (from requests<3,>=2->langchain) (2025.6.15)\n",
      "Requirement already satisfied: greenlet>=1 in d:\\langchain\\langchain models\\venv\\lib\\site-packages (from SQLAlchemy<3,>=1.4->langchain) (3.2.3)\n",
      "Requirement already satisfied: anyio in d:\\langchain\\langchain models\\venv\\lib\\site-packages (from httpx<1,>=0.23.0->langsmith<0.4,>=0.1.17->langchain) (4.9.0)\n",
      "Requirement already satisfied: httpcore==1.* in d:\\langchain\\langchain models\\venv\\lib\\site-packages (from httpx<1,>=0.23.0->langsmith<0.4,>=0.1.17->langchain) (1.0.9)\n",
      "Requirement already satisfied: h11>=0.16 in d:\\langchain\\langchain models\\venv\\lib\\site-packages (from httpcore==1.*->httpx<1,>=0.23.0->langsmith<0.4,>=0.1.17->langchain) (0.16.0)\n",
      "Requirement already satisfied: mypy-extensions>=0.3.0 in d:\\langchain\\langchain models\\venv\\lib\\site-packages (from typing-inspect<1,>=0.4.0->dataclasses-json<0.7,>=0.5.7->langchain-community) (1.1.0)\n",
      "Requirement already satisfied: sniffio>=1.1 in d:\\langchain\\langchain models\\venv\\lib\\site-packages (from anyio->httpx<1,>=0.23.0->langsmith<0.4,>=0.1.17->langchain) (1.3.1)\n",
      "Downloading duckduckgo_search-8.0.4-py3-none-any.whl (18 kB)\n",
      "Downloading langchain_experimental-0.3.4-py3-none-any.whl (209 kB)\n",
      "Downloading primp-0.15.0-cp38-abi3-win_amd64.whl (3.1 MB)\n",
      "   ---------------------------------------- 0.0/3.1 MB ? eta -:--:--\n",
      "   --- ------------------------------------ 0.3/3.1 MB ? eta -:--:--\n",
      "   --- ------------------------------------ 0.3/3.1 MB ? eta -:--:--\n",
      "   --- ------------------------------------ 0.3/3.1 MB ? eta -:--:--\n",
      "   --- ------------------------------------ 0.3/3.1 MB ? eta -:--:--\n",
      "   --- ------------------------------------ 0.3/3.1 MB ? eta -:--:--\n",
      "   --- ------------------------------------ 0.3/3.1 MB ? eta -:--:--\n",
      "   --- ------------------------------------ 0.3/3.1 MB ? eta -:--:--\n",
      "   ------ --------------------------------- 0.5/3.1 MB 195.0 kB/s eta 0:00:14\n",
      "   ------------------- -------------------- 1.6/3.1 MB 777.0 kB/s eta 0:00:03\n",
      "   ------------------------------------ --- 2.9/3.1 MB 1.4 MB/s eta 0:00:01\n",
      "   ---------------------------------------- 3.1/3.1 MB 1.5 MB/s eta 0:00:00\n",
      "Installing collected packages: primp, duckduckgo-search, langchain_experimental\n",
      "Successfully installed duckduckgo-search-8.0.4 langchain_experimental-0.3.4 primp-0.15.0\n"
     ]
    },
    {
     "name": "stderr",
     "output_type": "stream",
     "text": [
      "\n",
      "[notice] A new release of pip is available: 24.2 -> 25.1.1\n",
      "[notice] To update, run: python.exe -m pip install --upgrade pip\n"
     ]
    }
   ],
   "source": [
    "!pip install langchain langchain-core langchain-community pydantic duckduckgo-search langchain_experimental"
   ]
  },
  {
   "cell_type": "markdown",
   "id": "749e6882",
   "metadata": {},
   "source": [
    "### Built-in Tool - DuckDuckGo Search"
   ]
  },
  {
   "cell_type": "code",
   "execution_count": 6,
   "id": "1eb33ca6",
   "metadata": {},
   "outputs": [
    {
     "name": "stdout",
     "output_type": "stream",
     "text": [
      "Washington, D.C.1:12 a.m. June 22 Jerusalem8:12 a.m. June 22 Tehran8:42 a.m. June 22 After hitting Iran's most heavily fortified nuclear installation, President Trump warned of more strikes ... Follow The Post's live updates on the US' attack on Iran for the latest news, photos, reactions and more: Filed under. donald trump iran iran deal israel Israel-Iran conflict ... Washington — The United States launched strikes on three Iranian nuclear facilities, President Trump announced Saturday evening, calling them a \"spectacular military success.\" \"The U.S. military ... • US strikes Iran: The US struck several key Iranian nuclear facilities early Sunday, including Fordow, Natanz and Isfahan. During an address at the White House, US President Donald Trump ... Iran's Foreign Minister Abbas Araghchi accuses the United States of betraying diplomacy after it joined Israel in its air campaign against his country.; President Donald Trump claims the strikes ...\n"
     ]
    }
   ],
   "source": [
    "from langchain_community.tools import DuckDuckGoSearchRun\n",
    "search_tool=DuckDuckGoSearchRun()\n",
    "result=search_tool.invoke('Iran USA news')\n",
    "print(result)"
   ]
  },
  {
   "cell_type": "code",
   "execution_count": 22,
   "id": "86286c27",
   "metadata": {},
   "outputs": [
    {
     "name": "stdout",
     "output_type": "stream",
     "text": [
      "A wrapper around DuckDuckGo Search. Useful for when you need to answer questions about current events. Input should be a search query.\n",
      "{'query': {'description': 'search query to look up', 'title': 'Query', 'type': 'string'}}\n"
     ]
    }
   ],
   "source": [
    "print(search_tool.description)\n",
    "print(search_tool.args)"
   ]
  },
  {
   "cell_type": "markdown",
   "id": "65d7ea1b",
   "metadata": {},
   "source": [
    "### Build-in Tool Shell Tool"
   ]
  },
  {
   "cell_type": "code",
   "execution_count": 10,
   "id": "563ca35a",
   "metadata": {},
   "outputs": [
    {
     "name": "stdout",
     "output_type": "stream",
     "text": [
      "Executing command:\n",
      " whoami\n",
      "krish-pc\\avani\n",
      "\n"
     ]
    },
    {
     "name": "stderr",
     "output_type": "stream",
     "text": [
      "d:\\LangChain\\LangChain Models\\venv\\Lib\\site-packages\\langchain_community\\tools\\shell\\tool.py:33: UserWarning: The shell tool has no safeguards by default. Use at your own risk.\n",
      "  warnings.warn(\n"
     ]
    }
   ],
   "source": [
    "from langchain_community.tools import ShellTool\n",
    "shell_tool=ShellTool()\n",
    "result=shell_tool.invoke('whoami')\n",
    "print(result)"
   ]
  },
  {
   "cell_type": "markdown",
   "id": "eedd9ee2",
   "metadata": {},
   "source": [
    "### Custom Tool"
   ]
  },
  {
   "cell_type": "code",
   "execution_count": 11,
   "id": "f71b9e70",
   "metadata": {},
   "outputs": [],
   "source": [
    "from langchain_core.tools import tool\n"
   ]
  },
  {
   "cell_type": "code",
   "execution_count": 12,
   "id": "44e0da1f",
   "metadata": {},
   "outputs": [],
   "source": [
    "# step 1 Create a Function\n",
    "def multiply(a,b):\n",
    "    \"\"\"Multiply two Number\"\"\"\n",
    "    return a*b\n"
   ]
  },
  {
   "cell_type": "code",
   "execution_count": 13,
   "id": "0b08d31a",
   "metadata": {},
   "outputs": [],
   "source": [
    "#Step 2 Add type hints\n",
    "def multiply(a:int,b:int) -> int:\n",
    "    \"\"\"Multiply Two Number\"\"\"\n",
    "    return a*b\n"
   ]
  },
  {
   "cell_type": "code",
   "execution_count": 14,
   "id": "9fe0c07b",
   "metadata": {},
   "outputs": [],
   "source": [
    "#step 3 add tool decorator\n",
    "@tool\n",
    "def multiply(a:int,b:int) -> int:\n",
    "    \"\"\"Multiply Two Number\"\"\"\n",
    "    return a*b\n"
   ]
  },
  {
   "cell_type": "code",
   "execution_count": 17,
   "id": "775a17bb",
   "metadata": {},
   "outputs": [],
   "source": [
    "result=multiply.invoke({\"a\":3,\"b\":4})"
   ]
  },
  {
   "cell_type": "code",
   "execution_count": 18,
   "id": "0dd82745",
   "metadata": {},
   "outputs": [
    {
     "name": "stdout",
     "output_type": "stream",
     "text": [
      "12\n"
     ]
    }
   ],
   "source": [
    "print(result)"
   ]
  },
  {
   "cell_type": "code",
   "execution_count": null,
   "id": "c8a38ceb",
   "metadata": {},
   "outputs": [
    {
     "name": "stdout",
     "output_type": "stream",
     "text": [
      "multiply\n",
      "Multiply Two Number\n",
      "{'a': {'title': 'A', 'type': 'integer'}, 'b': {'title': 'B', 'type': 'integer'}}\n"
     ]
    }
   ],
   "source": [
    "print(multiply.name)\n",
    "print(multiply.description)\n",
    "print(multiply.args)"
   ]
  },
  {
   "cell_type": "code",
   "execution_count": 23,
   "id": "234f58e0",
   "metadata": {},
   "outputs": [
    {
     "name": "stdout",
     "output_type": "stream",
     "text": [
      "{'description': 'Multiply Two Number', 'properties': {'a': {'title': 'A', 'type': 'integer'}, 'b': {'title': 'B', 'type': 'integer'}}, 'required': ['a', 'b'], 'title': 'multiply', 'type': 'object'}\n"
     ]
    }
   ],
   "source": [
    "print(multiply.args_schema.model_json_schema())"
   ]
  },
  {
   "cell_type": "markdown",
   "id": "c31dfeea",
   "metadata": {},
   "source": [
    "### METHOD -2 Using Structured Tool"
   ]
  },
  {
   "cell_type": "code",
   "execution_count": 24,
   "id": "7ee1b1d6",
   "metadata": {},
   "outputs": [],
   "source": [
    "from langchain.tools import StructuredTool\n",
    "from pydantic import BaseModel,Field\n"
   ]
  },
  {
   "cell_type": "code",
   "execution_count": 25,
   "id": "8d3a3cd7",
   "metadata": {},
   "outputs": [],
   "source": [
    "class multiply_input(BaseModel):\n",
    "    a:int=Field(...,description='The first number to multiply')\n",
    "    b:int=Field(...,description='The second number to multiply')"
   ]
  },
  {
   "cell_type": "code",
   "execution_count": 26,
   "id": "81cfb6ac",
   "metadata": {},
   "outputs": [],
   "source": [
    "def multiply_func(a:int,b:int)-> int:\n",
    "    return a*b\n"
   ]
  },
  {
   "cell_type": "code",
   "execution_count": 29,
   "id": "692e5904",
   "metadata": {},
   "outputs": [],
   "source": [
    "multiply_tool=StructuredTool.from_function(\n",
    "    func=multiply_func,\n",
    "    name='Multiply',\n",
    "    description='Multiply 2 number',\n",
    "    args_schema=multiply_input\n",
    ")"
   ]
  },
  {
   "cell_type": "code",
   "execution_count": 30,
   "id": "c16e6456",
   "metadata": {},
   "outputs": [],
   "source": [
    "result=multiply_tool.invoke({'a':3,'b':4})"
   ]
  },
  {
   "cell_type": "code",
   "execution_count": 31,
   "id": "d381d06f",
   "metadata": {},
   "outputs": [
    {
     "name": "stdout",
     "output_type": "stream",
     "text": [
      "12\n"
     ]
    }
   ],
   "source": [
    "print(result)"
   ]
  },
  {
   "cell_type": "code",
   "execution_count": 32,
   "id": "3f4949b4",
   "metadata": {},
   "outputs": [
    {
     "name": "stdout",
     "output_type": "stream",
     "text": [
      "Multiply\n",
      "Multiply 2 number\n",
      "{'a': {'description': 'The first number to multiply', 'title': 'A', 'type': 'integer'}, 'b': {'description': 'The second number to multiply', 'title': 'B', 'type': 'integer'}}\n"
     ]
    }
   ],
   "source": [
    "print(multiply_tool.name)\n",
    "print(multiply_tool.description)\n",
    "print(multiply_tool.args)"
   ]
  },
  {
   "cell_type": "markdown",
   "id": "dcb42976",
   "metadata": {},
   "source": [
    "### Method-3 Using BaseTool Class"
   ]
  },
  {
   "cell_type": "code",
   "execution_count": 38,
   "id": "bb15d787",
   "metadata": {},
   "outputs": [],
   "source": [
    "from langchain.tools import BaseTool\n",
    "from typing import Type"
   ]
  },
  {
   "cell_type": "code",
   "execution_count": 39,
   "id": "33d88a5c",
   "metadata": {},
   "outputs": [],
   "source": [
    "class multiply_input(BaseModel):\n",
    "    a:int=Field(...,description='The first number to multiply')\n",
    "    b:int=Field(...,description='The second number to multiply')"
   ]
  },
  {
   "cell_type": "code",
   "execution_count": 41,
   "id": "7a004e7e",
   "metadata": {},
   "outputs": [],
   "source": [
    "class Multiplytool(BaseTool):\n",
    "    name:str='multiply'\n",
    "    description:str='multiply Two Number'\n",
    "\n",
    "    args_schema:Type[BaseModel]=multiply_input\n",
    "\n",
    "    def _run(self,a:int,b:int)-> int:\n",
    "        return a*b"
   ]
  },
  {
   "cell_type": "code",
   "execution_count": 43,
   "id": "d7d63972",
   "metadata": {},
   "outputs": [],
   "source": [
    "multi=Multiplytool()"
   ]
  },
  {
   "cell_type": "code",
   "execution_count": 45,
   "id": "34cd2d1d",
   "metadata": {},
   "outputs": [
    {
     "name": "stdout",
     "output_type": "stream",
     "text": [
      "12\n"
     ]
    }
   ],
   "source": [
    "print(multi.invoke({'a':4,'b':3}))"
   ]
  },
  {
   "cell_type": "markdown",
   "id": "684c2e6c",
   "metadata": {},
   "source": [
    "### Toolkit"
   ]
  },
  {
   "cell_type": "code",
   "execution_count": 46,
   "id": "1b576783",
   "metadata": {},
   "outputs": [],
   "source": [
    "from langchain_core.tools import tool\n",
    "\n",
    "# Custom tools\n",
    "@tool\n",
    "def add(a: int, b: int) -> int:\n",
    "    \"\"\"Add two numbers\"\"\"\n",
    "    return a + b\n",
    "\n",
    "@tool\n",
    "def multiply(a: int, b: int) -> int:\n",
    "    \"\"\"Multiply two numbers\"\"\"\n",
    "    return a * b\n"
   ]
  },
  {
   "cell_type": "code",
   "execution_count": 47,
   "id": "ada5c274",
   "metadata": {},
   "outputs": [],
   "source": [
    "class MathToolkit:\n",
    "    def get_tools(self):\n",
    "        return [add, multiply]\n"
   ]
  },
  {
   "cell_type": "code",
   "execution_count": 48,
   "id": "e4e010c9",
   "metadata": {},
   "outputs": [
    {
     "name": "stdout",
     "output_type": "stream",
     "text": [
      "add => Add two numbers\n",
      "multiply => Multiply two numbers\n"
     ]
    }
   ],
   "source": [
    "toolkit = MathToolkit()\n",
    "tools = toolkit.get_tools()\n",
    "\n",
    "for tool in tools:\n",
    "    print(tool.name, \"=>\", tool.description)\n"
   ]
  },
  {
   "cell_type": "code",
   "execution_count": null,
   "id": "d3dd4d27",
   "metadata": {},
   "outputs": [],
   "source": []
  }
 ],
 "metadata": {
  "kernelspec": {
   "display_name": "venv",
   "language": "python",
   "name": "python3"
  },
  "language_info": {
   "codemirror_mode": {
    "name": "ipython",
    "version": 3
   },
   "file_extension": ".py",
   "mimetype": "text/x-python",
   "name": "python",
   "nbconvert_exporter": "python",
   "pygments_lexer": "ipython3",
   "version": "3.12.5"
  }
 },
 "nbformat": 4,
 "nbformat_minor": 5
}

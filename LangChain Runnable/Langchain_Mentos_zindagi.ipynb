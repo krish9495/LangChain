{
  "nbformat": 4,
  "nbformat_minor": 0,
  "metadata": {
    "colab": {
      "provenance": []
    },
    "kernelspec": {
      "name": "python3",
      "display_name": "Python 3"
    },
    "language_info": {
      "name": "python"
    }
  },
  "cells": [
    {
      "cell_type": "code",
      "execution_count": 3,
      "metadata": {
        "id": "eB_3WagSB1zY"
      },
      "outputs": [],
      "source": [
        "from abc import  ABC, abstractmethod\n"
      ]
    },
    {
      "cell_type": "code",
      "source": [
        "class Runnable(ABC):\n",
        "\n",
        "  @abstractmethod\n",
        "  def invoke(input_data):\n",
        "    pass"
      ],
      "metadata": {
        "id": "vyshm0jJB7h3"
      },
      "execution_count": 5,
      "outputs": []
    },
    {
      "cell_type": "code",
      "source": [],
      "metadata": {
        "id": "Pcplty8aB7WK"
      },
      "execution_count": 5,
      "outputs": []
    },
    {
      "cell_type": "code",
      "source": [
        "import random\n",
        "class NakliLLM(Runnable):\n",
        "  def __init__(self):\n",
        "    print(\"LLM created\")\n",
        "\n",
        "  def invoke(self,input_data):\n",
        "    response_list=[\n",
        "        'Delhi is the capital of india',\n",
        "        'IPL is the indian cricket league',\n",
        "        'AI stands for Artifical Intelligence'\n",
        "    ]\n",
        "    return {'response':random.choice(response_list)}\n",
        "\n",
        "\n",
        "  def predict(self,prompt):\n",
        "\n",
        "    response_list=[\n",
        "        'Delhi is the capital of india',\n",
        "        'IPL is the indian cricket league',\n",
        "        'AI stands for Artifical Intelligence'\n",
        "    ]\n",
        "    return {'response:':random.choice(response_list)}"
      ],
      "metadata": {
        "id": "ZAcdYipaB7Ip"
      },
      "execution_count": 41,
      "outputs": []
    },
    {
      "cell_type": "code",
      "source": [
        "class NakliPromptTemplate(Runnable):\n",
        "\n",
        "  def __init__(self,template,input_variable):\n",
        "    self.template=template\n",
        "    self.input_variable=input_variable\n",
        "\n",
        "  def invoke(self,input_dict):\n",
        "    return self.template.format(**input_dict)\n",
        "\n",
        "\n",
        "  def format(self,input_dict):\n",
        "    return self.template.format(**input_dict)"
      ],
      "metadata": {
        "id": "y5Wh8H3tB7_T"
      },
      "execution_count": 42,
      "outputs": []
    },
    {
      "cell_type": "code",
      "source": [
        "class NakliStrOutput_Parser(Runnable):\n",
        "\n",
        "  def __init__(self):\n",
        "    pass\n",
        "\n",
        "  def invoke(self,input_dict):\n",
        "    return input_dict['response']"
      ],
      "metadata": {
        "id": "IAmyeOdwCAyP"
      },
      "execution_count": 43,
      "outputs": []
    },
    {
      "cell_type": "code",
      "source": [
        "class RunnableConnector(Runnable):\n",
        "  def __init__(self,runnable_list):\n",
        "    self.runnable_list=runnable_list\n",
        "\n",
        "  def invoke(self,input_data):\n",
        "    for runnable in self.runnable_list:\n",
        "      input_data=runnable.invoke(input_data)\n",
        "    return input_data\n",
        ""
      ],
      "metadata": {
        "id": "sFvg57eKDNF7"
      },
      "execution_count": 44,
      "outputs": []
    },
    {
      "cell_type": "code",
      "source": [
        "template=NakliPromptTemplate(\n",
        "    template='Write a {length} poem about {topic}',\n",
        "    input_variable=['length','topic']\n",
        ")"
      ],
      "metadata": {
        "id": "F8_PFre7EdNb"
      },
      "execution_count": 45,
      "outputs": []
    },
    {
      "cell_type": "code",
      "source": [
        "llm=NakliLLM()"
      ],
      "metadata": {
        "colab": {
          "base_uri": "https://localhost:8080/",
          "height": 0
        },
        "id": "-isj2hNKEixW",
        "outputId": "32f7cfec-8311-439b-c1fb-65e69dae77b9"
      },
      "execution_count": 46,
      "outputs": [
        {
          "output_type": "stream",
          "name": "stdout",
          "text": [
            "LLM created\n"
          ]
        }
      ]
    },
    {
      "cell_type": "code",
      "source": [
        "parser=NakliStrOutput_Parser()"
      ],
      "metadata": {
        "id": "fYhB4ukaFWay"
      },
      "execution_count": 47,
      "outputs": []
    },
    {
      "cell_type": "code",
      "source": [
        "chain=RunnableConnector([template,llm,parser])"
      ],
      "metadata": {
        "id": "3prilZosEu8y"
      },
      "execution_count": 50,
      "outputs": []
    },
    {
      "cell_type": "code",
      "source": [
        "chain.invoke({'length':'long','topic':'cricket'})"
      ],
      "metadata": {
        "colab": {
          "base_uri": "https://localhost:8080/",
          "height": 35
        },
        "id": "SpOUUBsdE1HL",
        "outputId": "7b08c3e6-fe4b-496a-c827-57c1884f175c"
      },
      "execution_count": 51,
      "outputs": [
        {
          "output_type": "execute_result",
          "data": {
            "text/plain": [
              "'AI stands for Artifical Intelligence'"
            ],
            "application/vnd.google.colaboratory.intrinsic+json": {
              "type": "string"
            }
          },
          "metadata": {},
          "execution_count": 51
        }
      ]
    },
    {
      "cell_type": "code",
      "source": [
        "template1=NakliPromptTemplate(\n",
        "    template='Write a joke about {topic}',\n",
        "    input_variable=['topic']\n",
        ")"
      ],
      "metadata": {
        "id": "vBs2ZG5_E617"
      },
      "execution_count": 52,
      "outputs": []
    },
    {
      "cell_type": "code",
      "source": [
        "template2=NakliPromptTemplate(\n",
        "    template='Explain the following joke {response}',\n",
        "    input_variable=['response']\n",
        ")"
      ],
      "metadata": {
        "id": "B95P-pNQGuKa"
      },
      "execution_count": 53,
      "outputs": []
    },
    {
      "cell_type": "code",
      "source": [
        "llm=NakliLLM()"
      ],
      "metadata": {
        "colab": {
          "base_uri": "https://localhost:8080/",
          "height": 0
        },
        "id": "QAig2pNLHCKm",
        "outputId": "a13b4a8c-826f-4ba3-bc2d-f210a1fe696c"
      },
      "execution_count": 54,
      "outputs": [
        {
          "output_type": "stream",
          "name": "stdout",
          "text": [
            "LLM created\n"
          ]
        }
      ]
    },
    {
      "cell_type": "code",
      "source": [
        "parser=NakliStrOutput_Parser()"
      ],
      "metadata": {
        "id": "lPI_6ZBDHDeF"
      },
      "execution_count": 55,
      "outputs": []
    },
    {
      "cell_type": "code",
      "source": [
        "chain1=RunnableConnector([template1,llm])"
      ],
      "metadata": {
        "id": "b3bKuaQtHFoZ"
      },
      "execution_count": 60,
      "outputs": []
    },
    {
      "cell_type": "code",
      "source": [
        "chain2=RunnableConnector([template2,llm,parser])"
      ],
      "metadata": {
        "id": "D0tO2LewHMKd"
      },
      "execution_count": 61,
      "outputs": []
    },
    {
      "cell_type": "code",
      "source": [
        "chain3=RunnableConnector([chain1,chain2])"
      ],
      "metadata": {
        "id": "ZubuhrOGHOlL"
      },
      "execution_count": 62,
      "outputs": []
    },
    {
      "cell_type": "code",
      "source": [
        "chain3.invoke({'topic':'cricket'})"
      ],
      "metadata": {
        "colab": {
          "base_uri": "https://localhost:8080/",
          "height": 35
        },
        "id": "R0ANGi8kHQX0",
        "outputId": "4a753f08-8436-47a2-e56d-7f3ddb0e6906"
      },
      "execution_count": 63,
      "outputs": [
        {
          "output_type": "execute_result",
          "data": {
            "text/plain": [
              "'AI stands for Artifical Intelligence'"
            ],
            "application/vnd.google.colaboratory.intrinsic+json": {
              "type": "string"
            }
          },
          "metadata": {},
          "execution_count": 63
        }
      ]
    },
    {
      "cell_type": "code",
      "source": [],
      "metadata": {
        "id": "Kf8Uned-HSC1"
      },
      "execution_count": null,
      "outputs": []
    }
  ]
}
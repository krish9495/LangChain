{
  "nbformat": 4,
  "nbformat_minor": 0,
  "metadata": {
    "colab": {
      "provenance": []
    },
    "kernelspec": {
      "name": "python3",
      "display_name": "Python 3"
    },
    "language_info": {
      "name": "python"
    }
  },
  "cells": [
    {
      "cell_type": "code",
      "execution_count": 1,
      "metadata": {
        "id": "q9nU8Uiw8dzB"
      },
      "outputs": [],
      "source": [
        "import random\n",
        "class NakliLLM:\n",
        "  def __init__(self):\n",
        "    print(\"LLM created\")\n",
        "\n",
        "  def predict(self,prompt):\n",
        "\n",
        "    response_list=[\n",
        "        'Delhi is the capital of india',\n",
        "        'IPL is the indian cricket league',\n",
        "        'AI stands for Artifical Intelligence'\n",
        "    ]\n",
        "    return {'response:':random.choice(response_list)}"
      ]
    },
    {
      "cell_type": "code",
      "source": [
        "class NakliPromptTemplate:\n",
        "\n",
        "  def __init__(self,template,input_variable):\n",
        "    self.template=template\n",
        "    self.input_variable=input_variable\n",
        "\n",
        "  def format(self,input_dict):\n",
        "    return self.template.format(**input_dict)"
      ],
      "metadata": {
        "id": "6iBwf0nV90JF"
      },
      "execution_count": 9,
      "outputs": []
    },
    {
      "cell_type": "code",
      "source": [
        "template=NakliPromptTemplate(\n",
        "    template='Write a {length} poem about {topic}',\n",
        "    input_variable=['length','topic']\n",
        ")"
      ],
      "metadata": {
        "id": "qCemW1ms-PKY"
      },
      "execution_count": 17,
      "outputs": []
    },
    {
      "cell_type": "code",
      "source": [
        "prompt=template.format({'length':'short','topic':'india'})"
      ],
      "metadata": {
        "id": "A8N_7IPV-s3K"
      },
      "execution_count": 19,
      "outputs": []
    },
    {
      "cell_type": "code",
      "source": [
        "llm=NakliLLM()"
      ],
      "metadata": {
        "colab": {
          "base_uri": "https://localhost:8080/"
        },
        "id": "iOzhDRFS_1OB",
        "outputId": "de853ae0-989a-4e8f-811f-dd92dee0be76"
      },
      "execution_count": 20,
      "outputs": [
        {
          "output_type": "stream",
          "name": "stdout",
          "text": [
            "LLM created\n"
          ]
        }
      ]
    },
    {
      "cell_type": "code",
      "source": [
        "llm.predict(prompt)"
      ],
      "metadata": {
        "colab": {
          "base_uri": "https://localhost:8080/"
        },
        "id": "fQKqpJ7A_4VV",
        "outputId": "65f162ca-152a-4e42-8f6b-d4a96bba6314"
      },
      "execution_count": 21,
      "outputs": [
        {
          "output_type": "execute_result",
          "data": {
            "text/plain": [
              "{'response:': 'IPL is the indian cricket league'}"
            ]
          },
          "metadata": {},
          "execution_count": 21
        }
      ]
    },
    {
      "cell_type": "code",
      "source": [
        "llm=NakliLLM()"
      ],
      "metadata": {
        "colab": {
          "base_uri": "https://localhost:8080/"
        },
        "id": "qy7b_UKb9mxi",
        "outputId": "edbf5f2f-c5b5-4b44-e5b9-3c63fddd3988"
      },
      "execution_count": 2,
      "outputs": [
        {
          "output_type": "stream",
          "name": "stdout",
          "text": [
            "LLM created\n"
          ]
        }
      ]
    },
    {
      "cell_type": "code",
      "source": [
        "class NakliLLMChain:\n",
        "  def __init__(self,prompt,llm):\n",
        "    self.prompt=prompt\n",
        "    self.llm=llm\n",
        "\n",
        "  def run(self,input_dict):\n",
        "    final_prompt=prompt=self.prompt.format(input_dict)\n",
        "    result=self.llm.predict(final_prompt)\n",
        "    return result\n"
      ],
      "metadata": {
        "id": "UXhu21aY9t_y"
      },
      "execution_count": 24,
      "outputs": []
    },
    {
      "cell_type": "code",
      "source": [
        "template=NakliPromptTemplate(\n",
        "    template='Write a {length} poem about {topic}',\n",
        "    input_variable=['length','topic']\n",
        ")"
      ],
      "metadata": {
        "id": "ofSLiRamAPfw"
      },
      "execution_count": 25,
      "outputs": []
    },
    {
      "cell_type": "code",
      "source": [
        "llm=NakliLLM()"
      ],
      "metadata": {
        "colab": {
          "base_uri": "https://localhost:8080/"
        },
        "id": "94baRd3hA8Sn",
        "outputId": "2654ea19-20a1-4165-a6c2-7c8a88a1cd93"
      },
      "execution_count": 26,
      "outputs": [
        {
          "output_type": "stream",
          "name": "stdout",
          "text": [
            "LLM created\n"
          ]
        }
      ]
    },
    {
      "cell_type": "code",
      "source": [
        "chain=NakliLLMChain(template,llm)"
      ],
      "metadata": {
        "id": "ESzx_-HlA-zs"
      },
      "execution_count": 27,
      "outputs": []
    },
    {
      "cell_type": "code",
      "source": [
        "chain.run({'length':'short','topic':'cricket'})"
      ],
      "metadata": {
        "colab": {
          "base_uri": "https://localhost:8080/"
        },
        "id": "CTFELVvKBGY5",
        "outputId": "77907937-c2d3-4bcc-d55b-6d9a12451b87"
      },
      "execution_count": 28,
      "outputs": [
        {
          "output_type": "execute_result",
          "data": {
            "text/plain": [
              "{'response:': 'AI stands for Artifical Intelligence'}"
            ]
          },
          "metadata": {},
          "execution_count": 28
        }
      ]
    },
    {
      "cell_type": "code",
      "source": [],
      "metadata": {
        "id": "r8gRM85jBR0H"
      },
      "execution_count": null,
      "outputs": []
    }
  ]
}